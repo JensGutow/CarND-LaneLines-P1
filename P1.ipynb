{
 "cells": [
  {
   "cell_type": "markdown",
   "metadata": {},
   "source": [
    "**The tools you have are color selection, region of interest selection, grayscaling, Gaussian smoothing, Canny Edge Detection and Hough Tranform line detection.  You  are also free to explore and try other techniques that were not presented in the lesson.  Your goal is piece together a pipeline to detect the line segments in the image, then average/extrapolate them and draw them onto the image for display (as below).  Once you have a working pipeline, try it out on the video stream below.**\n",
    "\n",
    "---\n",
    "\n",
    "<figure>\n",
    " <img src=\"examples/line-segments-example.jpg\" width=\"380\" alt=\"Combined Image\" />\n",
    " <figcaption>\n",
    " <p></p> \n",
    " <p style=\"text-align: center;\"> Your output should look something like this (above) after detecting line segments using the helper functions below </p> \n",
    " </figcaption>\n",
    "</figure>\n",
    " <p></p> \n",
    "<figure>\n",
    " <img src=\"examples/laneLines_thirdPass.jpg\" width=\"380\" alt=\"Combined Image\" />\n",
    " <figcaption>\n",
    " <p></p> \n",
    " <p style=\"text-align: center;\"> Your goal is to connect/average/extrapolate line segments to get output like this</p> \n",
    " </figcaption>\n",
    "</figure>"
   ]
  },
  {
   "cell_type": "markdown",
   "metadata": {},
   "source": [
    "# Self-Driving Car Engineer Nanodegree\n",
    "\n",
    "\n",
    "## Project: **Finding Lane Lines on the Road** \n",
    "***\n",
    "In this project, you will use the tools you learned about in the lesson to identify lane lines on the road.  You can develop your pipeline on a series of individual images, and later apply the result to a video stream (really just a series of images). Check out the video clip \"raw-lines-example.mp4\" (also contained in this repository) to see what the output should look like after using the helper functions below. \n",
    "\n",
    "Once you have a result that looks roughly like \"raw-lines-example.mp4\", you'll need to get creative and try to average and/or extrapolate the line segments you've detected to map out the full extent of the lane lines.  You can see an example of the result you're going for in the video \"P1_example.mp4\".  Ultimately, you would like to draw just one line for the left side of the lane, and one for the right.\n",
    "\n",
    "In addition to implementing code, there is a brief writeup to complete. The writeup should be completed in a separate file, which can be either a markdown file or a pdf document. There is a [write up template](https://github.com/udacity/CarND-LaneLines-P1/blob/master/writeup_template.md) that can be used to guide the writing process. Completing both the code in the Ipython notebook and the writeup template will cover all of the [rubric points](https://review.udacity.com/#!/rubrics/322/view) for this project.\n",
    "\n",
    "---\n",
    "Let's have a look at our first image called 'test_images/solidWhiteRight.jpg'.  Run the 2 cells below (hit Shift-Enter or the \"play\" button above) to display the image.\n",
    "\n",
    "**Note: If, at any point, you encounter frozen display windows or other confounding issues, you can always start again with a clean slate by going to the \"Kernel\" menu above and selecting \"Restart & Clear Output\".**\n",
    "\n",
    "---"
   ]
  },
  {
   "cell_type": "markdown",
   "metadata": {},
   "source": [
    "**Run the cell below to import some packages.  If you get an `import error` for a package you've already installed, try changing your kernel (select the Kernel menu above --> Change Kernel).  Still have problems?  Try relaunching Jupyter Notebook from the terminal prompt.  Also, consult the forums for more troubleshooting tips.**  "
   ]
  },
  {
   "cell_type": "markdown",
   "metadata": {},
   "source": [
    "## Import Packages"
   ]
  },
  {
   "cell_type": "code",
   "execution_count": null,
   "metadata": {},
   "outputs": [],
   "source": [
    "#importing some useful packages\n",
    "import matplotlib.pyplot as plt\n",
    "import matplotlib.image as mpimg\n",
    "import numpy as np\n",
    "from IPython.core.display import HTML\n",
    "import cv2\n",
    "print (cv2.__version__)\n",
    "%matplotlib inline"
   ]
  },
  {
   "cell_type": "code",
   "execution_count": null,
   "metadata": {},
   "outputs": [],
   "source": []
  },
  {
   "cell_type": "markdown",
   "metadata": {},
   "source": [
    "## Read in an Image"
   ]
  },
  {
   "cell_type": "code",
   "execution_count": null,
   "metadata": {},
   "outputs": [],
   "source": [
    "#reading in an image\n",
    "image = mpimg.imread('test_images/solidWhiteRight.jpg')\n",
    "\n",
    "#printing out some stats and plotting\n",
    "print('This image is:', type(image), 'with dimensions:', image.shape)\n",
    "plt.imshow(image)  # if you wanted to show a single color channel image called 'gray', for example, call as plt.imshow(gray, cmap='gray')"
   ]
  },
  {
   "cell_type": "markdown",
   "metadata": {},
   "source": [
    "## Ideas for Lane Detection Pipeline"
   ]
  },
  {
   "cell_type": "markdown",
   "metadata": {},
   "source": [
    "**Some OpenCV functions (beyond those introduced in the lesson) that might be useful for this project are:**\n",
    "\n",
    "`cv2.inRange()` for color selection  \n",
    "`cv2.fillPoly()` for regions selection  \n",
    "`cv2.line()` to draw lines on an image given endpoints  \n",
    "`cv2.addWeighted()` to coadd / overlay two images  \n",
    "`cv2.cvtColor()` to grayscale or change color  \n",
    "`cv2.imwrite()` to output images to file  \n",
    "`cv2.bitwise_and()` to apply a mask to an image\n",
    "\n",
    "**Check out the OpenCV documentation to learn about these and discover even more awesome functionality!**"
   ]
  },
  {
   "cell_type": "markdown",
   "metadata": {},
   "source": [
    "## Helper Functions"
   ]
  },
  {
   "cell_type": "markdown",
   "metadata": {},
   "source": [
    "Below are some helper functions to help get you started. They should look familiar from the lesson!"
   ]
  },
  {
   "cell_type": "code",
   "execution_count": null,
   "metadata": {},
   "outputs": [],
   "source": [
    "import math\n",
    "\n",
    "def grayscale(img):\n",
    "    \"\"\"Applies the Grayscale transform\n",
    "    This will return an image with only one color channel\n",
    "    but NOTE: to see the returned image as grayscale\n",
    "    (assuming your grayscaled image is called 'gray')\n",
    "    you should call plt.imshow(gray, cmap='gray')\"\"\"\n",
    "    return cv2.cvtColor(img, cv2.COLOR_RGB2GRAY)\n",
    "    # Or use BGR2GRAY if you read an image with cv2.imread()\n",
    "    # return cv2.cvtColor(img, cv2.COLOR_BGR2GRAY)\n",
    "    \n",
    "def canny(img, low_threshold, high_threshold):\n",
    "    \"\"\"Applies the Canny transform\"\"\"\n",
    "    return cv2.Canny(img, low_threshold, high_threshold)\n",
    "\n",
    "def gaussian_blur(img, kernel_size):\n",
    "    \"\"\"Applies a Gaussian Noise kernel\"\"\"\n",
    "    return cv2.GaussianBlur(img, (kernel_size, kernel_size), 0)\n",
    "\n",
    "def region_of_interest(img, vertices, color = 255):\n",
    "    \"\"\"\n",
    "    Applies an image mask.\n",
    "    \n",
    "    Only keeps the region of the image defined by the polygon\n",
    "    formed from `vertices`. The rest of the image is set to black.\n",
    "    `vertices` should be a numpy array of integer points.\n",
    "    \"\"\"\n",
    "    #defining a blank mask to start with\n",
    "    mask = np.zeros_like(img)   \n",
    "    \n",
    "    #defining a 3 channel or 1 channel color to fill the mask with depending on the input image\n",
    "    if len(img.shape) > 2:\n",
    "        channel_count = img.shape[2]  # i.e. 3 or 4 depending on your image\n",
    "        ignore_mask_color = (color,) * channel_count\n",
    "    else:\n",
    "        ignore_mask_color = color\n",
    "        \n",
    "            \n",
    "    #filling pixels inside the polygon defined by \"vertices\" with the fill color    \n",
    "    cv2.fillPoly(mask, vertices, ignore_mask_color)\n",
    "    \n",
    "    #returning the image only where mask pixels are nonzero\n",
    "    masked_image = cv2.bitwise_and(img, mask)\n",
    "    return masked_image\n",
    "\n",
    "\n",
    "def draw_lines(img, lines, color=[255, 0, 0], thickness=2):\n",
    "    \"\"\"\n",
    "    NOTE: this is the function you might want to use as a starting point once you want to \n",
    "    average/extrapolate the line segments you detect to map out the full\n",
    "    extent of the lane (going from the result shown in raw-lines-example.mp4\n",
    "    to that shown in P1_example.mp4).  \n",
    "    \n",
    "    Think about things like separating line segments by their \n",
    "    slope ((y2-y1)/(x2-x1)) to decide which segments are part of the left\n",
    "    line vs. the right line.  Then, you can average the position of each of \n",
    "    the lines and extrapolate to the top and bottom of the lane.\n",
    "    \n",
    "    This function draws `lines` with `color` and `thickness`.    \n",
    "    Lines are drawn on the image inplace (mutates the image).\n",
    "    If you want to make the lines semi-transparent, think about combining\n",
    "    this function with the weighted_img() function below\n",
    "    \"\"\"\n",
    "    for line in lines:\n",
    "        for x1,y1,x2,y2 in line:\n",
    "            cv2.line(img, (x1, y1), (x2, y2), color, thickness)\n",
    "\n",
    "def hough_lines(img, rho, theta, threshold, min_line_len, max_line_gap):\n",
    "    \"\"\"\n",
    "    `img` should be the output of a Canny transform.\n",
    "        \n",
    "    Returns an image with hough lines drawn.\n",
    "    \"\"\"\n",
    "    lines = cv2.HoughLinesP(img, rho, theta, threshold, np.array([]), minLineLength=min_line_len, maxLineGap=max_line_gap)\n",
    "    line_img = np.zeros((img.shape[0], img.shape[1], 3), dtype=np.uint8)\n",
    "    draw_lines(line_img, lines)\n",
    "    return line_img\n",
    "\n",
    "def hough_lines_lines(img, rho, theta, threshold, min_line_len, max_line_gap):\n",
    "    \"\"\"\n",
    "    `img` should be the output of a Canny transform.\n",
    "        \n",
    "    Returns an set with detected lines\n",
    "    \"\"\"\n",
    "    lines = cv2.HoughLinesP(img, rho, theta, threshold, np.array([]), minLineLength=min_line_len, maxLineGap=max_line_gap)\n",
    "    return lines\n",
    "\n",
    "def hough_lines_rhoTheta(img, rho, theta, threshold):\n",
    "    return cv2.HoughLines(image, rho, theta, threshold)\n",
    "\n",
    "# Python 3 has support for cool math symbols.\n",
    "\n",
    "def weighted_img(img, initial_img, α=0.8, β=1., γ=0.):\n",
    "    \"\"\"\n",
    "    `img` is the output of the hough_lines(), An image with lines drawn on it.\n",
    "    Should be a blank image (all black) with lines drawn on it.\n",
    "    \n",
    "    `initial_img` should be the image before any processing.\n",
    "    \n",
    "    The result image is computed as follows:\n",
    "    \n",
    "    initial_img * α + img * β + γ\n",
    "    NOTE: initial_img and img must be the same shape!\n",
    "    \"\"\"\n",
    "    return cv2.addWeighted(initial_img, α, img, β, γ)"
   ]
  },
  {
   "cell_type": "code",
   "execution_count": null,
   "metadata": {},
   "outputs": [],
   "source": []
  },
  {
   "cell_type": "markdown",
   "metadata": {},
   "source": [
    "## Test Images\n",
    "\n",
    "Build your pipeline to work on the images in the directory \"test_images\"  \n",
    "**You should make sure your pipeline works well on these images before you try the videos.**"
   ]
  },
  {
   "cell_type": "markdown",
   "metadata": {},
   "source": [
    "# images\n",
    "- read all images from \"test_images\"\n",
    "- create a list of images: **images**"
   ]
  },
  {
   "cell_type": "code",
   "execution_count": null,
   "metadata": {},
   "outputs": [],
   "source": [
    "import os\n",
    "\n",
    "# read images from a dir\n",
    "# presumption: the dir has images only\n",
    "# return: a list of [image, \"name_of_the_image\"] items\n",
    "def readImagesFromDir(dir):\n",
    "    names =  os.listdir(\"test_images/\")\n",
    "    images = []\n",
    "    for name in names:\n",
    "        images.append(mpimg.imread('test_images/' + name))\n",
    "    return images\n",
    "    "
   ]
  },
  {
   "cell_type": "code",
   "execution_count": null,
   "metadata": {},
   "outputs": [],
   "source": [
    "def showImages(list, columns, rows = 1, isGray = False):\n",
    "    fig = plt.figure(figsize=(columns * 5, rows * 5))\n",
    "    i = 1\n",
    "    print(\"columns=\", columns, \" rows=\", rows, \" isGray=\", isGray)\n",
    "    for img in list:\n",
    "        fig.add_subplot(rows, columns, i)\n",
    "        i = i + 1 \n",
    "        if(isGray):\n",
    "            plt.imshow(img, cmap='gray')\n",
    "        else:\n",
    "            plt.imshow(img)\n",
    "        \n",
    "    plt.show()  # finally, render the plot"
   ]
  },
  {
   "cell_type": "code",
   "execution_count": null,
   "metadata": {},
   "outputs": [],
   "source": [
    "## How to use subplots"
   ]
  },
  {
   "cell_type": "code",
   "execution_count": null,
   "metadata": {},
   "outputs": [],
   "source": [
    "import numpy as np\n",
    "import matplotlib.pyplot as plt\n",
    "\n",
    "w=10\n",
    "h=10\n",
    "fig=plt.figure(figsize=(8, 8))\n",
    "columns = 4\n",
    "rows = 5\n",
    "for i in range(1, columns*rows +1):\n",
    "    img = np.random.randint(10, size=(h,w))\n",
    "    fig.add_subplot(rows, columns, i)\n",
    "    plt.imshow(img)\n",
    "plt.show()"
   ]
  },
  {
   "cell_type": "code",
   "execution_count": null,
   "metadata": {},
   "outputs": [],
   "source": [
    "images = readImagesFromDir(\"/test_images/\");"
   ]
  },
  {
   "cell_type": "code",
   "execution_count": null,
   "metadata": {},
   "outputs": [],
   "source": [
    "#showImages(images, len(images))\n",
    "showImages(images, 6,1)"
   ]
  },
  {
   "cell_type": "markdown",
   "metadata": {},
   "source": [
    "# imgRegion\n",
    "- pts: point set for creation the the region of interest\n",
    "- imgRegion"
   ]
  },
  {
   "cell_type": "markdown",
   "metadata": {},
   "source": [
    "## define point sets for masking and clipping\n",
    "- Outer polygon - define the region of interest\n",
    "- Inner polygon - clip the the \"Outer polygon\"-edges - detected by the Canny-Algorithm¶"
   ]
  },
  {
   "cell_type": "code",
   "execution_count": null,
   "metadata": {},
   "outputs": [],
   "source": [
    "dN=10 \n",
    "yMax = 540\n",
    "xMax = 960\n",
    "y2   = 320\n",
    "\n",
    "# point set for images\n",
    "p1x  = 110\n",
    "p1y  = yMax\n",
    "p2x  = 390\n",
    "p2y  = y2\n",
    "p3x  = 550\n",
    "p3y  = y2\n",
    "p4x  = 940\n",
    "p4y  = yMax\n",
    "pts       = np.array([(p1x, p1y),(p2x, p2y),(p3x, p3y),(p4x, p4y)], np.int32)\n",
    "pts_clipp = np.array([(p1x+dN, p1y),(p2x+dN, p2y+dN),(p3x-dN, p3y+dN),(p4x-dN, p4y)], np.int32)\n",
    "\n"
   ]
  },
  {
   "cell_type": "code",
   "execution_count": null,
   "metadata": {},
   "outputs": [],
   "source": [
    "# point set for videos\n",
    "pv1x  = 100\n",
    "pv1y  = yMax\n",
    "pv2x  = 420\n",
    "pv2y  = y2\n",
    "pv3x  = 550\n",
    "pv3y  = y2\n",
    "pv4x  = 930\n",
    "pv4y  = yMax\n",
    "\n",
    "pts_video       = np.array([(pv1x, pv1y),(pv2x, pv2y),(pv3x, pv3y),(pv4x, pv4y)], np.int32)\n",
    "pts_clipp_video = np.array([(pv1x+dN, pv1y),(pv2x+dN, pv2y+dN),(pv3x-dN, pv3y+dN),(pv4x-dN, pv4y)], np.int32)"
   ]
  },
  {
   "cell_type": "code",
   "execution_count": null,
   "metadata": {},
   "outputs": [],
   "source": [
    "print((image.shape[0], image.shape[1], image.shape[2]))"
   ]
  },
  {
   "cell_type": "code",
   "execution_count": null,
   "metadata": {},
   "outputs": [],
   "source": [
    "dim = xMax * yMax * 3\n",
    "imgWhite = np.zeros(dim, np.uint8)\n",
    "imgWhite += 255;\n",
    "imgWhite = imgWhite.reshape(yMax, xMax, 3)\n",
    "imgMask = region_of_interest(imgWhite, [pts])\n",
    "print(\"imgMask.shape()\",imgMask.shape)\n",
    "plt.imshow(imgMask)"
   ]
  },
  {
   "cell_type": "code",
   "execution_count": null,
   "metadata": {},
   "outputs": [],
   "source": [
    "pts, ps_clipp = getPointSets()"
   ]
  },
  {
   "cell_type": "code",
   "execution_count": null,
   "metadata": {},
   "outputs": [],
   "source": [
    "def  houghCannyChain(image):\n",
    "    imgRegion       = region_of_interest(image, [pts_video])\n",
    "    imgGray         = grayscale(imgRegion)\n",
    "    kernel = 5\n",
    "    imgGaussBlur    = gaussian_blur(imgGray, kernel) \n",
    "    lowTh = 100\n",
    "    highTh = 200\n",
    "    imgCanny        = canny(imgGaussBlur, lowTh, highTh)\n",
    "    imgCannyClipped = region_of_interest(imgCanny, [pts_clipp_video])\n",
    "    linesHough      = hough_lines_lines(imgCannyClipped, 1, np.pi/180, 5, 5,2) \n",
    "    imgOrgAndHough  = np.copy(image)\n",
    "    draw_lines(imgOrgAndHough, linesHough)\n",
    "    # cv2.line(imgOrgAndHough, (pv1x, pv1y), (pv2x, pv2y), [0,255,0], 4)\n",
    "    # cv2.line(imgOrgAndHough, (pv3x, pv3y), (pv4x, pv4y), [0,255,0], 4)\n",
    "    return imgOrgAndHough"
   ]
  },
  {
   "cell_type": "code",
   "execution_count": null,
   "metadata": {},
   "outputs": [],
   "source": [
    "i1 = houghCannyChain(image)"
   ]
  },
  {
   "cell_type": "code",
   "execution_count": null,
   "metadata": {},
   "outputs": [],
   "source": [
    "plt.imshow(i1)"
   ]
  },
  {
   "cell_type": "code",
   "execution_count": null,
   "metadata": {},
   "outputs": [],
   "source": [
    "# attention: pts only doesnt work - [pts] is necessary!\n",
    "imgRegions = [region_of_interest(image, [pts]) for image in images]\n",
    "showImages(imgRegions, len(imgRegions))"
   ]
  },
  {
   "cell_type": "code",
   "execution_count": null,
   "metadata": {},
   "outputs": [],
   "source": [
    "plt.imshow(imgRegions[0])"
   ]
  },
  {
   "cell_type": "markdown",
   "metadata": {},
   "source": [
    "# imgMask"
   ]
  },
  {
   "cell_type": "code",
   "execution_count": null,
   "metadata": {},
   "outputs": [],
   "source": [
    "dim = image.shape[0] * image.shape[1] * image.shape[2]\n",
    "print(\"dim=\",dim)\n",
    "imgWhite = np.zeros(dim, np.uint8)\n",
    "imgWhite += 255;\n",
    "imgWhite = imgWhite.reshape(image.shape[0], image.shape[1], image.shape[2])\n",
    "print(\"imgZeros.shape\", imgWhite.shape)\n",
    "print(\"imgWhite[0,0]\", imgWhite[0,0])\n",
    "\n",
    "imgMask = region_of_interest(imgWhite, [pts])\n",
    "print(\"imgMask.shape()\",imgMask.shape)\n",
    "plt.imshow(imgMask)\n",
    "\n",
    "\n"
   ]
  },
  {
   "cell_type": "markdown",
   "metadata": {},
   "source": [
    "# imgGray"
   ]
  },
  {
   "cell_type": "code",
   "execution_count": null,
   "metadata": {},
   "outputs": [],
   "source": [
    "imgGrays = [grayscale(image) for image in imgRegions]\n",
    "showImages(imgGrays, len(imgGrays),1, True)"
   ]
  },
  {
   "cell_type": "markdown",
   "metadata": {},
   "source": [
    "# imgGaussianBlur"
   ]
  },
  {
   "cell_type": "code",
   "execution_count": null,
   "metadata": {},
   "outputs": [],
   "source": [
    "kernel = 3\n",
    "imgGaussianBlurs_3 = [gaussian_blur(image, kernel) for image in imgGrays]\n",
    "showImages(imgGaussianBlurs_3, len(imgGaussianBlurs_3),1, True)"
   ]
  },
  {
   "cell_type": "code",
   "execution_count": null,
   "metadata": {},
   "outputs": [],
   "source": [
    "kernel = 5\n",
    "imgGaussianBlurs_5 = [gaussian_blur(image, kernel) for image in imgGrays]\n",
    "showImages(imgGaussianBlurs_5, len(imgGaussianBlurs_5),1, True)"
   ]
  },
  {
   "cell_type": "code",
   "execution_count": null,
   "metadata": {},
   "outputs": [],
   "source": [
    "kernel = 5\n",
    "imgGaussianBlurs = [gaussian_blur(image, kernel) for image in imgGrays]\n",
    "showImages(imgGaussianBlurs, len(imgGaussianBlurs),1, True)"
   ]
  },
  {
   "cell_type": "markdown",
   "metadata": {},
   "source": [
    "## select parameter for GaussianBlur \n",
    "- kernel = 5"
   ]
  },
  {
   "cell_type": "code",
   "execution_count": null,
   "metadata": {},
   "outputs": [],
   "source": [
    "low_thresholds  =[80,100,120]\n",
    "high_thresholds = [160,200,240]\n",
    "\n",
    "def cannyList(lowTh, highTh):\n",
    "    return [canny(image, lowTh, highTh) for image in imgGaussianBlurs ]\n",
    "\n",
    "imgCannysSum = []\n",
    "for lowTh in low_thresholds:\n",
    "    for highTh in high_thresholds:\n",
    "        imgCannysSum += cannyList(lowTh, highTh)\n",
    "\n",
    "showImages(imgCannysSum, 6, 9, True)"
   ]
  },
  {
   "cell_type": "code",
   "execution_count": null,
   "metadata": {},
   "outputs": [],
   "source": [
    "kernel = 5\n",
    "imgGaussianBlurs = [gaussian_blur(image, kernel) for image in imgGrays]\n",
    "showImages(imgGaussianBlurs, len(imgGaussianBlurs),1, True)"
   ]
  },
  {
   "cell_type": "markdown",
   "metadata": {},
   "source": [
    "# imgCanny"
   ]
  },
  {
   "cell_type": "markdown",
   "metadata": {},
   "source": [
    "## select parameter for Canny\n",
    "- lowThreshold = 100\n",
    "- highThreshold = 200"
   ]
  },
  {
   "cell_type": "code",
   "execution_count": null,
   "metadata": {},
   "outputs": [],
   "source": [
    "lowTh = 100\n",
    "hithTh = 200\n",
    "imgCanny = cannyList(lowTh, highTh)\n",
    "showImages(imgCanny, 6, 1, True)"
   ]
  },
  {
   "cell_type": "markdown",
   "metadata": {},
   "source": [
    "# delete the \"region-edge\" from the edge-detection\n",
    "- The area for edge detection was restricted to the region \"of interest\".\n",
    "- This was realized by a masking.\n",
    "- The border of the mask was detect as a line too. But This edges are not realy eges of the picture - and will be removed."
   ]
  },
  {
   "cell_type": "code",
   "execution_count": null,
   "metadata": {},
   "outputs": [],
   "source": [
    "imgCannysNoExternalEdges = [region_of_interest(image, [pts_clipp]) for image in imgCanny]\n",
    "showImages(imgCannysNoExternalEdges, 6, 1, True)"
   ]
  },
  {
   "cell_type": "code",
   "execution_count": null,
   "metadata": {},
   "outputs": [],
   "source": []
  },
  {
   "cell_type": "markdown",
   "metadata": {},
   "source": [
    "# imgHough"
   ]
  },
  {
   "cell_type": "code",
   "execution_count": null,
   "metadata": {},
   "outputs": [],
   "source": [
    "imgRhoTeta = [cv2.HoughLines(image, 1, np.pi/180, 5) for image in imgCannysNoExternalEdges]\n",
    "# showImages(imgRhoTeta, 3, 2, True)\n"
   ]
  },
  {
   "cell_type": "code",
   "execution_count": null,
   "metadata": {},
   "outputs": [],
   "source": [
    "print(len(imgRhoTeta[0]))"
   ]
  },
  {
   "cell_type": "code",
   "execution_count": null,
   "metadata": {},
   "outputs": [],
   "source": [
    "#( dst, lines, 1, CV_PI/360, 8, 0, 0 );\n",
    "# imgHough = hough_lines(imgCanny, 1, np.pi/180, 0, 5, 1)\n",
    "# plt.imshow(imgHough, cmap='gray') \n",
    "\n",
    "\n",
    "imgHoughs = [hough_lines(image, 1, np.pi/180, 5, 5,2) for image in imgCannysNoExternalEdges]\n",
    "showImages(imgHoughs, 3, 2, True)"
   ]
  },
  {
   "cell_type": "code",
   "execution_count": null,
   "metadata": {},
   "outputs": [],
   "source": [
    "linesHough = [hough_lines_lines(image, 1, np.pi/180, 5, 5,2) for image in imgCannysNoExternalEdges]"
   ]
  },
  {
   "cell_type": "markdown",
   "metadata": {},
   "source": [
    "# Merge orgImages and imgHoughs -> save\n"
   ]
  },
  {
   "cell_type": "code",
   "execution_count": null,
   "metadata": {},
   "outputs": [],
   "source": [
    "# copy (save) the original images\n",
    "imgOrgAndHoughs = [np.copy(image) for image in images]\n",
    "# draw_lines(line_img, lines)\n",
    "for i in range(len(imgOrgAndHoughs)):\n",
    "    draw_lines(imgOrgAndHoughs[i], linesHough[i])\n",
    "# map(function_to_apply, list_of_inputs) # more as one aragument\n",
    "showImages(imgOrgAndHoughs, 3, 2, True)\n"
   ]
  },
  {
   "cell_type": "code",
   "execution_count": null,
   "metadata": {},
   "outputs": [],
   "source": [
    "plt.imshow(imgOrgAndHoughs[5])"
   ]
  },
  {
   "cell_type": "markdown",
   "metadata": {},
   "source": [
    "## Save the images\n",
    "- src: imgOrgAndHoughs (what)\n",
    "- dest: \\test_images_output\\\n",
    "- name: \"org\"_out.jpg"
   ]
  },
  {
   "cell_type": "code",
   "execution_count": null,
   "metadata": {},
   "outputs": [],
   "source": [
    "from pathlib import Path\n",
    "def writeImagesToDir(dir_, images):\n",
    "    names_with_ext =  os.listdir(\"test_images/\")\n",
    "    names = [Path(name).stem for name in names_with_ext]\n",
    "            \n",
    "    for i in range(len(images)):\n",
    "        fileName = dir_ + \"/\"+names[i] + \"_out.jpg\"\n",
    "        cv2.imwrite(fileName, images[i])    \n",
    "\n",
    "    \n",
    "\n",
    "writeImagesToDir('test_images_output', imgOrgAndHoughs)"
   ]
  },
  {
   "cell_type": "markdown",
   "metadata": {},
   "source": [
    "Build the pipeline and run your solution on all test_images. Make copies into the `test_images_output` directory, and you can use the images in your writeup report.\n",
    "\n",
    "Try tuning the various parameters, especially the low and high Canny thresholds as well as the Hough lines parameters."
   ]
  },
  {
   "cell_type": "markdown",
   "metadata": {},
   "source": [
    "# Filter (discriminate) lines regarding the left/right side.\n",
    "- Discrimination criteria: gradient"
   ]
  },
  {
   "cell_type": "code",
   "execution_count": null,
   "metadata": {},
   "outputs": [],
   "source": [
    "### lineParametersLines: "
   ]
  },
  {
   "cell_type": "code",
   "execution_count": null,
   "metadata": {},
   "outputs": [],
   "source": [
    "lineParameterLines = []\n",
    "for lines in linesHough:\n",
    "    lineParameters = []\n",
    "    teta_avg = 0\n",
    "    count = 0\n",
    "    for l in lines:\n",
    "        line = l[0]\n",
    "        # yMax, len,  m, n\n",
    "        dx = line[2] - line[0]\n",
    "        dy = line[3] - line[1]\n",
    "        if(dy != 0):\n",
    "            length = math.sqrt(dx*dx + dy*dy)\n",
    "            teta = dx/dy # ÄNDERN\n",
    "            n = line[1] - m * line[0]\n",
    "            #print(m,n,length)\n",
    " #           print(\"% 10.1E % 10.1E % d \"% (m,n,length))\n",
    "            teta_avg += teta\n",
    "            count += 1\n",
    "            yMax = max(line[1], line[3])\n",
    "            lineParameters.append([yMax, length, m, n])\n",
    "    lineParameterLines.append([m_teta/count,lineParameters])\n",
    "#    print(\"---------\")\n",
    "# print((lineParameterLines[0][1][2]))\n",
    "# print(lineParameterLines[0][0])\n"
   ]
  },
  {
   "cell_type": "code",
   "execution_count": null,
   "metadata": {},
   "outputs": [],
   "source": [
    "len(lineParameterLines)\n"
   ]
  },
  {
   "cell_type": "code",
   "execution_count": null,
   "metadata": {},
   "outputs": [],
   "source": [
    "def separeteLaneSites (lineParameterLin):\n",
    "    left = []\n",
    "    right = []\n",
    "    "
   ]
  },
  {
   "cell_type": "markdown",
   "metadata": {},
   "source": [
    "## Build a Lane Finding Pipeline\n",
    "\n"
   ]
  },
  {
   "cell_type": "code",
   "execution_count": null,
   "metadata": {},
   "outputs": [],
   "source": [
    "# all pictures have the same dimensions. Read the y size\n",
    "# motivation: later the y-coordinate is interpreted as high or distance and is a paramter to rate the line\n",
    "# denpends on the high and length the current line is more or less important for calculate the average slope for the lane decorator \n",
    "imgMaxY = imgOrgAndHoughs[0].shape[1]"
   ]
  },
  {
   "cell_type": "code",
   "execution_count": null,
   "metadata": {},
   "outputs": [],
   "source": [
    "# TODO: Build your pipeline that will draw lane lines on the test_images\n",
    "# then save them to the test_images_output directory."
   ]
  },
  {
   "cell_type": "markdown",
   "metadata": {},
   "source": [
    "## Test on Videos\n",
    "\n",
    "You know what's cooler than drawing lanes over images? Drawing lanes over video!\n",
    "\n",
    "We can test our solution on two provided videos:\n",
    "\n",
    "`solidWhiteRight.mp4`\n",
    "\n",
    "`solidYellowLeft.mp4`\n",
    "\n",
    "**Note: if you get an import error when you run the next cell, try changing your kernel (select the Kernel menu above --> Change Kernel). Still have problems? Try relaunching Jupyter Notebook from the terminal prompt. Also, consult the forums for more troubleshooting tips.**\n",
    "\n",
    "**If you get an error that looks like this:**\n",
    "```\n",
    "NeedDownloadError: Need ffmpeg exe. \n",
    "You can download it by calling: \n",
    "imageio.plugins.ffmpeg.download()\n",
    "```\n",
    "**Follow the instructions in the error message and check out [this forum post](https://discussions.udacity.com/t/project-error-of-test-on-videos/274082) for more troubleshooting tips across operating systems.**"
   ]
  },
  {
   "cell_type": "code",
   "execution_count": null,
   "metadata": {},
   "outputs": [],
   "source": [
    "# Import everything needed to edit/save/watch video clips\n",
    "from moviepy.editor import VideoFileClip\n",
    "from IPython.display import HTML\n",
    "# imageio.plugins.ffmpeg.download()"
   ]
  },
  {
   "cell_type": "code",
   "execution_count": null,
   "metadata": {},
   "outputs": [],
   "source": [
    "def process_image(image):\n",
    "    # NOTE: The output you return should be a color image (3 channel) for processing video below\n",
    "    # TODO: put your pipeline here,\n",
    "    # you should return the final output (image where lines are drawn on lanes)\n",
    "\n",
    "    return houghCannyChain(image)"
   ]
  },
  {
   "cell_type": "markdown",
   "metadata": {},
   "source": [
    "Let's try the one with the solid white lane on the right first ..."
   ]
  },
  {
   "cell_type": "code",
   "execution_count": null,
   "metadata": {},
   "outputs": [],
   "source": [
    "white_output = 'test_videos_output/solidWhiteRight.mp4'\n",
    "## To speed up the testing process you may want to try your pipeline on a shorter subclip of the video\n",
    "## To do so add .subclip(start_second,end_second) to the end of the line below\n",
    "## Where start_second and end_second are integer values representing the start and end of the subclip\n",
    "## You may also uncomment the following line for a subclip of the first 5 seconds\n",
    "##clip1 = VideoFileClip(\"test_videos/solidWhiteRight.mp4\").subclip(0,5)\n",
    "clip1 = VideoFileClip(\"test_videos/solidWhiteRight.mp4\")\n",
    "white_clip = clip1.fl_image(process_image) #NOTE: this function expects color images!!\n",
    "%time white_clip.write_videofile(white_output, audio=False)"
   ]
  },
  {
   "cell_type": "markdown",
   "metadata": {},
   "source": [
    "Play the video inline, or if you prefer find the video in your filesystem (should be in the same directory) and play it in your video player of choice."
   ]
  },
  {
   "cell_type": "code",
   "execution_count": null,
   "metadata": {},
   "outputs": [],
   "source": [
    "display(HTML(\"\"\"\n",
    "<video width=\"960\" height=\"540\" controls>\n",
    "  <source src=\"{0}\">\n",
    "</video>\n",
    "\"\"\".format(white_output)))"
   ]
  },
  {
   "cell_type": "markdown",
   "metadata": {},
   "source": [
    "## Improve the draw_lines() function\n",
    "\n",
    "**At this point, if you were successful with making the pipeline and tuning parameters, you probably have the Hough line segments drawn onto the road, but what about identifying the full extent of the lane and marking it clearly as in the example video (P1_example.mp4)?  Think about defining a line to run the full length of the visible lane based on the line segments you identified with the Hough Transform. As mentioned previously, try to average and/or extrapolate the line segments you've detected to map out the full extent of the lane lines. You can see an example of the result you're going for in the video \"P1_example.mp4\".**\n",
    "\n",
    "**Go back and modify your draw_lines function accordingly and try re-running your pipeline. The new output should draw a single, solid line over the left lane line and a single, solid line over the right lane line. The lines should start from the bottom of the image and extend out to the top of the region of interest.**"
   ]
  },
  {
   "cell_type": "markdown",
   "metadata": {},
   "source": [
    "Now for the one with the solid yellow lane on the left. This one's more tricky!"
   ]
  },
  {
   "cell_type": "markdown",
   "metadata": {},
   "source": [
    "yellow_output = 'test_videos_output/solidYellowLeft.mp4'\n",
    "## To speed up the testing process you may want to try your pipeline on a shorter subclip of the video\n",
    "## To do so add .subclip(start_second,end_second) to the end of the line below\n",
    "## Where start_second and end_second are integer values representing the start and end of the subclip\n",
    "## You may also uncomment the following line for a subclip of the first 5 seconds\n",
    "##clip2 = VideoFileClip('test_videos/solidYellowLeft.mp4').subclip(0,5)\n",
    "clip2 = VideoFileClip('test_videos/solidYellowLeft.mp4')\n",
    "yellow_clip = clip2.fl_image(process_image)\n",
    "%time yellow_clip.write_videofile(yellow_output, audio=False)"
   ]
  },
  {
   "cell_type": "code",
   "execution_count": null,
   "metadata": {},
   "outputs": [],
   "source": [
    "HTML(\"\"\"\n",
    "<video width=\"960\" height=\"540\" controls>\n",
    "  <source src=\"{0}\">\n",
    "</video>\n",
    "\"\"\".format(yellow_output))"
   ]
  },
  {
   "cell_type": "markdown",
   "metadata": {},
   "source": [
    "## Writeup and Submission\n",
    "\n",
    "If you're satisfied with your video outputs, it's time to make the report writeup in a pdf or markdown file. Once you have this Ipython notebook ready along with the writeup, it's time to submit for review! Here is a [link](https://github.com/udacity/CarND-LaneLines-P1/blob/master/writeup_template.md) to the writeup template file.\n"
   ]
  },
  {
   "cell_type": "markdown",
   "metadata": {
    "collapsed": true
   },
   "source": [
    "## Optional Challenge\n",
    "\n",
    "Try your lane finding pipeline on the video below.  Does it still work?  Can you figure out a way to make it more robust?  If you're up for the challenge, modify your pipeline so it works with this video and submit it along with the rest of your project!"
   ]
  },
  {
   "cell_type": "code",
   "execution_count": null,
   "metadata": {},
   "outputs": [],
   "source": [
    "challenge_output = 'test_videos_output/challenge.mp4'\n",
    "## To speed up the testing process you may want to try your pipeline on a shorter subclip of the video\n",
    "## To do so add .subclip(start_second,end_second) to the end of the line below\n",
    "## Where start_second and end_second are integer values representing the start and end of the subclip\n",
    "## You may also uncomment the following line for a subclip of the first 5 seconds\n",
    "##clip3 = VideoFileClip('test_videos/challenge.mp4').subclip(0,5)\n",
    "clip3 = VideoFileClip('test_videos/challenge.mp4')\n",
    "challenge_clip = clip3.fl_image(process_image)\n",
    "%time challenge_clip.write_videofile(challenge_output, audio=False)"
   ]
  },
  {
   "cell_type": "code",
   "execution_count": null,
   "metadata": {},
   "outputs": [],
   "source": [
    "HTML(\"\"\"\n",
    "<video width=\"960\" height=\"540\" controls>\n",
    "  <source src=\"{0}\">\n",
    "</video>\n",
    "\"\"\".format(challenge_output))"
   ]
  },
  {
   "cell_type": "code",
   "execution_count": null,
   "metadata": {},
   "outputs": [],
   "source": [
    "import cv2 as cv\n",
    "import numpy as np\n",
    "W = 400\n",
    "def my_ellipse(img, angle):\n",
    "    thickness = 2\n",
    "    line_type = 8\n",
    "    cv.ellipse(img,\n",
    "                (W // 2, W // 2),\n",
    "                (W // 4, W // 16),\n",
    "                angle,\n",
    "                0,\n",
    "                360,\n",
    "                (255, 0, 0),\n",
    "                thickness,\n",
    "                line_type)\n",
    "def my_filled_circle(img, center):\n",
    "    thickness = -1\n",
    "    line_type = 8\n",
    "    cv.circle(img,\n",
    "               center,\n",
    "               W // 32,\n",
    "               (0, 0, 255),\n",
    "               thickness,\n",
    "               line_type)\n",
    "def my_polygon(img):\n",
    "    line_type = 8\n",
    "    # Create some points\n",
    "    ppt = np.array([[W / 4, 7 * W / 8], [3 * W / 4, 7 * W / 8],\n",
    "                    [3 * W / 4, 13 * W / 16], [11 * W / 16, 13 * W / 16],\n",
    "                    [19 * W / 32, 3 * W / 8], [3 * W / 4, 3 * W / 8],\n",
    "                    [3 * W / 4, W / 8], [26 * W / 40, W / 8],\n",
    "                    [26 * W / 40, W / 4], [22 * W / 40, W / 4],\n",
    "                    [22 * W / 40, W / 8], [18 * W / 40, W / 8],\n",
    "                    [18 * W / 40, W / 4], [14 * W / 40, W / 4],\n",
    "                    [14 * W / 40, W / 8], [W / 4, W / 8],\n",
    "                    [W / 4, 3 * W / 8], [13 * W / 32, 3 * W / 8],\n",
    "                    [5 * W / 16, 13 * W / 16], [W / 4, 13 * W / 16]], np.int32)\n",
    "    ppt = ppt.reshape((-1, 1, 2))\n",
    "    cv.fillPoly(img, [ppt], (255, 255, 255), line_type)\n",
    "    # Only drawind the lines would be:\n",
    "    # cv.polylines(img, [ppt], True, (255, 0, 255), line_type)\n",
    "def my_line(img, start, end):\n",
    "    thickness = 2\n",
    "    line_type = 8\n",
    "    cv.line(img,\n",
    "             start,\n",
    "             end,\n",
    "             (0, 0, 0),\n",
    "             thickness,\n",
    "             line_type)\n",
    "atom_window = \"Drawing 1: Atom\"\n",
    "rook_window = \"Drawing 2: Rook\"\n",
    "# Create black empty images\n",
    "size = W, W, 3\n",
    "atom_image = np.zeros(size, dtype=np.uint8)\n",
    "rook_image = np.zeros(size, dtype=np.uint8)\n",
    "# 1.a. Creating ellipses\n",
    "my_ellipse(atom_image, 90)\n",
    "my_ellipse(atom_image, 0)\n",
    "my_ellipse(atom_image, 45)\n",
    "my_ellipse(atom_image, -45)\n",
    "# 1.b. Creating circles\n",
    "my_filled_circle(atom_image, (W // 2, W // 2))\n",
    "# 2. Draw a rook\n",
    "# ------------------\n",
    "# 2.a. Create a convex polygon\n",
    "my_polygon(rook_image)\n",
    "cv.rectangle(rook_image,\n",
    "              (0, 7 * W // 8),\n",
    "              (W, W),\n",
    "              (0, 255, 255),\n",
    "              -1,\n",
    "              8)\n",
    "#  2.c. Create a few lines\n",
    "my_line(rook_image, (0, 15 * W // 16), (W, 15 * W // 16))\n",
    "my_line(rook_image, (W // 4, 7 * W // 8), (W // 4, W))\n",
    "my_line(rook_image, (W // 2, 7 * W // 8), (W // 2, W))\n",
    "my_line(rook_image, (3 * W // 4, 7 * W // 8), (3 * W // 4, W))\n",
    "cv.imshow(atom_window, atom_image)\n",
    "cv.moveWindow(atom_window, 0, 200)\n",
    "cv.imshow(rook_window, rook_image)\n",
    "cv.moveWindow(rook_window, W, 200)\n",
    "cv.waitKey(0)\n",
    "cv.destroyAllWindows()"
   ]
  },
  {
   "cell_type": "code",
   "execution_count": null,
   "metadata": {},
   "outputs": [],
   "source": [
    "import numpy as np\n",
    "import cv2\n",
    "\n",
    "# Create a black image\n",
    "img = np.zeros((512,512,3), np.uint8)\n",
    "\n",
    "fig=plt.figure()\n",
    "rows = 3\n",
    "collumns = 2\n",
    "\n",
    "fig.add_subplot(rows, collumns, 1)\n",
    "plt.imshow(img)\n",
    "\n",
    "# Draw a diagonal blue line with thickness of 5 px\n",
    "imgLine = cv2.line(img,(0,0),(511,511),(255,0,0),5)\n",
    "fig.add_subplot(rows, collumns, 2)\n",
    "plt.imshow(imgLine)\n",
    "img = np.zeros((512,512,3), np.uint8)\n",
    "\n",
    "# plt.imshow(img)\n",
    "imgRectangle = cv2.rectangle(img,(384,0),(510,128),(0,255,0),3)\n",
    "fig.add_subplot(rows, collumns, 3)\n",
    "plt.imshow(imgRectangle)\n",
    "img = np.zeros((512,512,3), np.uint8)\n",
    "\n",
    "imgEllipse = cv2.ellipse(img,(256,256),(100,50),0,0,180,255,-1)\n",
    "fig.add_subplot(rows, collumns, 4)\n",
    "plt.imshow(imgEllipse)\n",
    "img = np.zeros((512,512,3), np.uint8)\n",
    "\n",
    "pts = np.array([[10,5],[20,30],[70,20],[50,10]], np.int32)\n",
    "pts = pts.reshape((-1,1,2))\n",
    "imgPoly = cv2.polylines(img,[pts],True,(0,255,255))\n",
    "fig.add_subplot(rows, collumns, 5)\n",
    "plt.imshow(imgPoly)\n",
    "img = np.zeros((512,512,3), np.uint8)\n",
    "\n",
    "\n",
    "\n",
    "plt.show()"
   ]
  },
  {
   "cell_type": "code",
   "execution_count": null,
   "metadata": {},
   "outputs": [],
   "source": [
    "import numpy as np\n",
    "import cv2\n",
    "import matplotlib.pyplot as plt\n",
    "\n",
    "# Create a black image\n",
    "img = np.zeros((512,512,3), np.uint8)\n",
    "\n",
    "pts = np.array([[10,5],[20,30],[70,20],[50,10]], np.int32)\n",
    "print(pts)\n",
    "print(pts.shape)\n",
    "pts = pts.reshape((-1,1,2))\n",
    "print(pts)\n",
    "print(pts.shape)\n",
    "\n",
    "imgPoly = cv2.polylines(img,[pts],True,(0,255,255))\n",
    "plt.imshow(imgPoly) "
   ]
  },
  {
   "cell_type": "code",
   "execution_count": null,
   "metadata": {},
   "outputs": [],
   "source": [
    "test = np.zeros((2,4,3), np.int8)\n",
    "\n",
    "for i in range(2):\n",
    "    for j in range(4):\n",
    "        for k in range(3):\n",
    "            test[i,j,k]=i*2 + j*3 +k*10 \n",
    "print(test)    \n",
    "plt.imshow(test) "
   ]
  },
  {
   "cell_type": "code",
   "execution_count": null,
   "metadata": {},
   "outputs": [],
   "source": [
    "red_threshold = 0\n",
    "green_threshold = 0\n",
    "blue_threshold = 0\n",
    "rgb_threshold = [red_threshold, green_threshold, blue_threshold]\n",
    "color_thresholds = (test[:,:,0] < rgb_threshold[0])\n",
    "test2 = test[:,:,0]\n",
    "print(color_thresholds)\n",
    "print(test2)"
   ]
  }
 ],
 "metadata": {
  "anaconda-cloud": {},
  "kernelspec": {
   "display_name": "Python 3",
   "language": "python",
   "name": "python3"
  },
  "language_info": {
   "codemirror_mode": {
    "name": "ipython",
    "version": 3
   },
   "file_extension": ".py",
   "mimetype": "text/x-python",
   "name": "python",
   "nbconvert_exporter": "python",
   "pygments_lexer": "ipython3",
   "version": "3.7.6"
  }
 },
 "nbformat": 4,
 "nbformat_minor": 1
}
